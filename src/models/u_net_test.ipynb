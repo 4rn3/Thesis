{
 "cells": [
  {
   "cell_type": "code",
   "execution_count": 77,
   "metadata": {},
   "outputs": [],
   "source": [
    "import numpy as np\n",
    "import pandas as pd\n",
    "import matplotlib.pyplot as plt\n",
    "\n",
    "from pyts.image import GramianAngularField\n",
    "\n",
    "import random\n",
    "\n",
    "import pandas as pd\n",
    "import numpy as np\n",
    "import matplotlib.pyplot as plt\n",
    "\n",
    "from keras.layers import Input, Dense, Conv2D, Flatten, Reshape, Conv2DTranspose\n",
    "from keras.models import Model\n",
    "from keras.datasets import mnist\n",
    "from keras.utils import to_categorical\n",
    "from keras import backend as K\n",
    "from keras.callbacks import Callback\n",
    "import tensorflow as tf\n",
    "from tensorflow.keras.callbacks import EarlyStopping\n",
    "\n",
    "from scipy.stats import entropy\n",
    "from scipy.linalg import sqrtm\n",
    "from keras.applications.inception_v3 import InceptionV3\n",
    "\n",
    "import numpy as np\n",
    "import pandas as pd\n",
    "\n",
    "import matplotlib.pyplot as plt\n",
    "\n",
    "from sklearn.preprocessing import LabelEncoder\n",
    "from sklearn.preprocessing import RobustScaler\n",
    "\n",
    "from tensorflow.keras.models import save_model\n",
    "\n",
    "import torch\n",
    "import torch.nn as nn\n",
    "import torch.nn.functional as F\n",
    "from torch.utils.data import TensorDataset\n",
    "from torch.utils.data import DataLoader\n",
    "from torchvision.utils import save_image, make_grid\n",
    "\n",
    "\n",
    "import cv2 # Import OpenCV\n",
    "from tqdm import tqdm\n",
    "\n",
    "\n",
    "seed = 42\n",
    "random.seed(seed)\n",
    "from sklearn.utils import check_random_state\n",
    "check_random_state(seed)\n",
    "\n",
    "np.random.seed(seed)\n",
    "tf.random.set_seed(seed)\n",
    "tf.keras.utils.set_random_seed(seed)\n"
   ]
  },
  {
   "cell_type": "markdown",
   "metadata": {},
   "source": [
    "# Data"
   ]
  },
  {
   "cell_type": "code",
   "execution_count": 78,
   "metadata": {},
   "outputs": [
    {
     "name": "stdout",
     "output_type": "stream",
     "text": [
      "(8760, 8)\n"
     ]
    },
    {
     "data": {
      "text/html": [
       "<div>\n",
       "<style scoped>\n",
       "    .dataframe tbody tr th:only-of-type {\n",
       "        vertical-align: middle;\n",
       "    }\n",
       "\n",
       "    .dataframe tbody tr th {\n",
       "        vertical-align: top;\n",
       "    }\n",
       "\n",
       "    .dataframe thead th {\n",
       "        text-align: right;\n",
       "    }\n",
       "</style>\n",
       "<table border=\"1\" class=\"dataframe\">\n",
       "  <thead>\n",
       "    <tr style=\"text-align: right;\">\n",
       "      <th></th>\n",
       "      <th>NET</th>\n",
       "      <th>Cooling</th>\n",
       "      <th>PV_meter1_load (kW)</th>\n",
       "      <th>PV_meter2_load (kW)</th>\n",
       "      <th>Battery cabinet</th>\n",
       "      <th>Sumppump</th>\n",
       "      <th>Plug_Basement</th>\n",
       "      <th>Solar rapid shutdown</th>\n",
       "    </tr>\n",
       "  </thead>\n",
       "  <tbody>\n",
       "    <tr>\n",
       "      <th>0</th>\n",
       "      <td>1.422260</td>\n",
       "      <td>0.002001</td>\n",
       "      <td>-0.050127</td>\n",
       "      <td>-0.048380</td>\n",
       "      <td>0.003126</td>\n",
       "      <td>0.001130</td>\n",
       "      <td>0.190117</td>\n",
       "      <td>0.003929</td>\n",
       "    </tr>\n",
       "    <tr>\n",
       "      <th>1</th>\n",
       "      <td>1.438863</td>\n",
       "      <td>0.002010</td>\n",
       "      <td>-0.049362</td>\n",
       "      <td>-0.050536</td>\n",
       "      <td>0.003116</td>\n",
       "      <td>0.001148</td>\n",
       "      <td>0.198712</td>\n",
       "      <td>0.004033</td>\n",
       "    </tr>\n",
       "    <tr>\n",
       "      <th>2</th>\n",
       "      <td>1.401933</td>\n",
       "      <td>0.001990</td>\n",
       "      <td>-0.048622</td>\n",
       "      <td>-0.047862</td>\n",
       "      <td>0.003119</td>\n",
       "      <td>0.001133</td>\n",
       "      <td>0.163461</td>\n",
       "      <td>0.004018</td>\n",
       "    </tr>\n",
       "    <tr>\n",
       "      <th>3</th>\n",
       "      <td>1.410452</td>\n",
       "      <td>0.002003</td>\n",
       "      <td>-0.048963</td>\n",
       "      <td>-0.050321</td>\n",
       "      <td>0.003120</td>\n",
       "      <td>0.001137</td>\n",
       "      <td>0.173353</td>\n",
       "      <td>0.003993</td>\n",
       "    </tr>\n",
       "    <tr>\n",
       "      <th>4</th>\n",
       "      <td>1.426215</td>\n",
       "      <td>0.001997</td>\n",
       "      <td>-0.048785</td>\n",
       "      <td>-0.049283</td>\n",
       "      <td>0.003112</td>\n",
       "      <td>0.001126</td>\n",
       "      <td>0.197125</td>\n",
       "      <td>0.003896</td>\n",
       "    </tr>\n",
       "  </tbody>\n",
       "</table>\n",
       "</div>"
      ],
      "text/plain": [
       "        NET   Cooling  PV_meter1_load (kW)  PV_meter2_load (kW)  \\\n",
       "0  1.422260  0.002001            -0.050127            -0.048380   \n",
       "1  1.438863  0.002010            -0.049362            -0.050536   \n",
       "2  1.401933  0.001990            -0.048622            -0.047862   \n",
       "3  1.410452  0.002003            -0.048963            -0.050321   \n",
       "4  1.426215  0.001997            -0.048785            -0.049283   \n",
       "\n",
       "   Battery cabinet  Sumppump  Plug_Basement  Solar rapid shutdown  \n",
       "0         0.003126  0.001130       0.190117              0.003929  \n",
       "1         0.003116  0.001148       0.198712              0.004033  \n",
       "2         0.003119  0.001133       0.163461              0.004018  \n",
       "3         0.003120  0.001137       0.173353              0.003993  \n",
       "4         0.003112  0.001126       0.197125              0.003896  "
      ]
     },
     "execution_count": 78,
     "metadata": {},
     "output_type": "execute_result"
    }
   ],
   "source": [
    "meter_data_dir = \"../preprocessing/data/meter_data/48190963_Loads_hourly.csv\"\n",
    "conditioning_data_dir = \"../preprocessing/data/conditioning_data/48190936_Weather.csv\"\n",
    "\n",
    "meter_data = pd.read_csv(meter_data_dir)\n",
    "meter_data = meter_data[[\"NET\", \"Cooling\", \"PV_meter1_load (kW)\", \"PV_meter2_load (kW)\", \"Battery cabinet\", \"Sumppump\", \"Plug_Basement\", \"Solar rapid shutdown\"]] #subset for dev\n",
    "#meter_data = meter_data[[\"NET\", \"Cooling\", \"PV_meter1_load (kW)\", \"Battery cabinet\"]] #subset for dev\n",
    "print(meter_data.shape)\n",
    "meter_data.head()\n"
   ]
  },
  {
   "cell_type": "code",
   "execution_count": 79,
   "metadata": {},
   "outputs": [
    {
     "name": "stdout",
     "output_type": "stream",
     "text": [
      "(8760, 8)\n"
     ]
    },
    {
     "data": {
      "text/html": [
       "<div>\n",
       "<style scoped>\n",
       "    .dataframe tbody tr th:only-of-type {\n",
       "        vertical-align: middle;\n",
       "    }\n",
       "\n",
       "    .dataframe tbody tr th {\n",
       "        vertical-align: top;\n",
       "    }\n",
       "\n",
       "    .dataframe thead th {\n",
       "        text-align: right;\n",
       "    }\n",
       "</style>\n",
       "<table border=\"1\" class=\"dataframe\">\n",
       "  <thead>\n",
       "    <tr style=\"text-align: right;\">\n",
       "      <th></th>\n",
       "      <th>Air temperature (gund, ¡É)</th>\n",
       "      <th>Relative humidity (gund, %)</th>\n",
       "      <th>Wind speed (gund, m/s)</th>\n",
       "      <th>Weather data, Wind speed (m/s)</th>\n",
       "      <th>Wind direction (gund, ¡Æ)</th>\n",
       "      <th>Weather data, Wind direction</th>\n",
       "      <th>Weather data, Rain</th>\n",
       "      <th>Solar radiation (gund, W/m^2)</th>\n",
       "    </tr>\n",
       "  </thead>\n",
       "  <tbody>\n",
       "    <tr>\n",
       "      <th>0</th>\n",
       "      <td>12.576667</td>\n",
       "      <td>88.250000</td>\n",
       "      <td>0.208333</td>\n",
       "      <td>0.033333</td>\n",
       "      <td>98.583333</td>\n",
       "      <td>129.857023</td>\n",
       "      <td>0</td>\n",
       "      <td>1.0</td>\n",
       "    </tr>\n",
       "    <tr>\n",
       "      <th>1</th>\n",
       "      <td>12.975833</td>\n",
       "      <td>89.908333</td>\n",
       "      <td>0.000000</td>\n",
       "      <td>0.033333</td>\n",
       "      <td>111.083333</td>\n",
       "      <td>129.857023</td>\n",
       "      <td>0</td>\n",
       "      <td>1.0</td>\n",
       "    </tr>\n",
       "    <tr>\n",
       "      <th>2</th>\n",
       "      <td>13.330833</td>\n",
       "      <td>90.491667</td>\n",
       "      <td>0.000000</td>\n",
       "      <td>0.033333</td>\n",
       "      <td>98.333333</td>\n",
       "      <td>129.857023</td>\n",
       "      <td>0</td>\n",
       "      <td>1.0</td>\n",
       "    </tr>\n",
       "    <tr>\n",
       "      <th>3</th>\n",
       "      <td>13.648333</td>\n",
       "      <td>87.258333</td>\n",
       "      <td>0.250000</td>\n",
       "      <td>0.050000</td>\n",
       "      <td>84.166667</td>\n",
       "      <td>109.500000</td>\n",
       "      <td>0</td>\n",
       "      <td>1.0</td>\n",
       "    </tr>\n",
       "    <tr>\n",
       "      <th>4</th>\n",
       "      <td>13.836667</td>\n",
       "      <td>80.758333</td>\n",
       "      <td>0.166667</td>\n",
       "      <td>0.050000</td>\n",
       "      <td>85.833333</td>\n",
       "      <td>119.250157</td>\n",
       "      <td>0</td>\n",
       "      <td>1.0</td>\n",
       "    </tr>\n",
       "  </tbody>\n",
       "</table>\n",
       "</div>"
      ],
      "text/plain": [
       "   Air temperature (gund, ¡É)  Relative humidity (gund, %)  \\\n",
       "0                   12.576667                    88.250000   \n",
       "1                   12.975833                    89.908333   \n",
       "2                   13.330833                    90.491667   \n",
       "3                   13.648333                    87.258333   \n",
       "4                   13.836667                    80.758333   \n",
       "\n",
       "   Wind speed (gund, m/s)  Weather data, Wind speed (m/s)  \\\n",
       "0                0.208333                        0.033333   \n",
       "1                0.000000                        0.033333   \n",
       "2                0.000000                        0.033333   \n",
       "3                0.250000                        0.050000   \n",
       "4                0.166667                        0.050000   \n",
       "\n",
       "   Wind direction (gund, ¡Æ)  Weather data, Wind direction  \\\n",
       "0                  98.583333                    129.857023   \n",
       "1                 111.083333                    129.857023   \n",
       "2                  98.333333                    129.857023   \n",
       "3                  84.166667                    109.500000   \n",
       "4                  85.833333                    119.250157   \n",
       "\n",
       "   Weather data, Rain  Solar radiation (gund, W/m^2)  \n",
       "0                   0                            1.0  \n",
       "1                   0                            1.0  \n",
       "2                   0                            1.0  \n",
       "3                   0                            1.0  \n",
       "4                   0                            1.0  "
      ]
     },
     "execution_count": 79,
     "metadata": {},
     "output_type": "execute_result"
    }
   ],
   "source": [
    "conditioning_data = pd.read_csv(conditioning_data_dir, encoding='unicode_escape')\n",
    "conditioning_data = conditioning_data.iloc[:, 1:]\n",
    "print(conditioning_data.shape)\n",
    "conditioning_data.head()"
   ]
  },
  {
   "cell_type": "code",
   "execution_count": 80,
   "metadata": {},
   "outputs": [
    {
     "data": {
      "text/plain": [
       "(8760, 8, 8)"
      ]
     },
     "execution_count": 80,
     "metadata": {},
     "output_type": "execute_result"
    }
   ],
   "source": [
    "multi_var_ts = np.asarray(meter_data)\n",
    "gaf = GramianAngularField(image_size=multi_var_ts.shape[1], method='summation')\n",
    "gaf_images = [gaf.fit_transform(ts.reshape(1, -1))[0] for ts in multi_var_ts]\n",
    "ts_images = np.asarray(gaf_images)\n",
    "ts_images.shape"
   ]
  },
  {
   "cell_type": "markdown",
   "metadata": {},
   "source": [
    "U-net with n-downsampling layers, input needs to be divisible by 2^n<br>\n",
    "i.e. 4 downsampling layers = 2^4 = 16x16 img shape"
   ]
  },
  {
   "cell_type": "code",
   "execution_count": 81,
   "metadata": {},
   "outputs": [],
   "source": [
    "img_rows = ts_images.shape[1]\n",
    "img_cols = ts_images.shape[2]\n",
    "channels = 1\n",
    "img_shape = (img_rows, img_cols, channels)\n",
    "z_dim = 100"
   ]
  },
  {
   "cell_type": "code",
   "execution_count": 82,
   "metadata": {},
   "outputs": [
    {
     "data": {
      "text/plain": [
       "(8, 8, 1)"
      ]
     },
     "execution_count": 82,
     "metadata": {},
     "output_type": "execute_result"
    }
   ],
   "source": [
    "img_shape"
   ]
  },
  {
   "cell_type": "code",
   "execution_count": 83,
   "metadata": {},
   "outputs": [
    {
     "data": {
      "text/plain": [
       "(8760, 1, 8, 8)"
      ]
     },
     "execution_count": 83,
     "metadata": {},
     "output_type": "execute_result"
    }
   ],
   "source": [
    "X_train = np.tile(ts_images, (1, 1, 1, channels))\n",
    "X_train = np.transpose(X_train, (1, 0, 2, 3))\n",
    "X_train.shape"
   ]
  },
  {
   "cell_type": "code",
   "execution_count": 84,
   "metadata": {},
   "outputs": [
    {
     "data": {
      "text/plain": [
       "(8760, 8)"
      ]
     },
     "execution_count": 84,
     "metadata": {},
     "output_type": "execute_result"
    }
   ],
   "source": [
    "y_train = np.asarray(conditioning_data)\n",
    "dims_meta = y_train.shape[1]\n",
    "y_train.shape"
   ]
  },
  {
   "cell_type": "code",
   "execution_count": 85,
   "metadata": {},
   "outputs": [
    {
     "data": {
      "image/png": "[encoded data removed]",
      "text/plain": [
       "<Figure size 2000x200 with 10 Axes>"
      ]
     },
     "metadata": {},
     "output_type": "display_data"
    }
   ],
   "source": [
    "import random\n",
    "# Generate 10 unique random indices\n",
    "random_indices = random.sample(range(X_train.shape[0]), 10)\n",
    "\n",
    "# Extract the randomly selected images\n",
    "random_images = X_train[random_indices]\n",
    "\n",
    "# Now random_images has shape [10, 1, 64, 64]\n",
    "fig, axes = plt.subplots(1, 10, figsize=(20, 2))\n",
    "\n",
    "for idx, ax in enumerate(axes):\n",
    "    ax.imshow(random_images[idx].squeeze(), cmap='gray') # squeeze to remove the channel dimension\n",
    "    ax.axis('off') # to remove the axes for clarity\n",
    "\n",
    "plt.show()"
   ]
  },
  {
   "cell_type": "markdown",
   "metadata": {},
   "source": [
    "# Model"
   ]
  },
  {
   "cell_type": "code",
   "execution_count": 86,
   "metadata": {},
   "outputs": [],
   "source": [
    "class ResidualConvBlock(nn.Module):\n",
    "    def __init__(\n",
    "        self, in_channels: int, out_channels: int, is_res: bool = False\n",
    "    ) -> None:\n",
    "        super().__init__()\n",
    "\n",
    "        # Check if input and output channels are the same for the residual connection\n",
    "        self.same_channels = in_channels == out_channels\n",
    "\n",
    "        # Flag for whether or not to use residual connection\n",
    "        self.is_res = is_res\n",
    "\n",
    "        # First convolutional layer\n",
    "        self.conv1 = nn.Sequential(\n",
    "            nn.Conv2d(in_channels, out_channels, 3, 1, 1),   # 3x3 kernel with stride 1 and padding 1\n",
    "            nn.BatchNorm2d(out_channels),   # Batch normalization\n",
    "            nn.GELU(),   # GELU activation function\n",
    "        )\n",
    "\n",
    "        # Second convolutional layer\n",
    "        self.conv2 = nn.Sequential(\n",
    "            nn.Conv2d(out_channels, out_channels, 3, 1, 1),   # 3x3 kernel with stride 1 and padding 1\n",
    "            nn.BatchNorm2d(out_channels),   # Batch normalization\n",
    "            nn.GELU(),   # GELU activation function\n",
    "        )\n",
    "\n",
    "    def forward(self, x: torch.Tensor) -> torch.Tensor:\n",
    "\n",
    "        # If using residual connection\n",
    "        if self.is_res:\n",
    "            # Apply first convolutional layer\n",
    "            x1 = self.conv1(x)\n",
    "\n",
    "            # Apply second convolutional layer\n",
    "            x2 = self.conv2(x1)\n",
    "\n",
    "            # If input and output channels are the same, add residual connection directly\n",
    "            if self.same_channels:\n",
    "                out = x + x2\n",
    "            else:\n",
    "                # If not, apply a 1x1 convolutional layer to match dimensions before adding residual connection\n",
    "                shortcut = nn.Conv2d(x.shape[1], x2.shape[1], kernel_size=1, stride=1, padding=0).to(x.device)\n",
    "                out = shortcut(x) + x2\n",
    "            #print(f\"resconv forward: x {x.shape}, x1 {x1.shape}, x2 {x2.shape}, out {out.shape}\")\n",
    "\n",
    "            # Normalize output tensor\n",
    "            return out / 1.414\n",
    "\n",
    "        # If not using residual connection, return output of second convolutional layer\n",
    "        else:\n",
    "            x1 = self.conv1(x)\n",
    "            x2 = self.conv2(x1)\n",
    "            return x2\n",
    "\n",
    "    # Method to get the number of output channels for this block\n",
    "    def get_out_channels(self):\n",
    "        return self.conv2[0].out_channels\n",
    "\n",
    "    # Method to set the number of output channels for this block\n",
    "    def set_out_channels(self, out_channels):\n",
    "        self.conv1[0].out_channels = out_channels\n",
    "        self.conv2[0].in_channels = out_channels\n",
    "        self.conv2[0].out_channels = out_channels\n",
    "        \n",
    "\n",
    "class UnetUp(nn.Module):\n",
    "    def __init__(self, in_channels, out_channels):\n",
    "        super(UnetUp, self).__init__()\n",
    "        \n",
    "        # Create a list of layers for the upsampling block\n",
    "        # The block consists of a ConvTranspose2d layer for upsampling, followed by two ResidualConvBlock layers\n",
    "        layers = [\n",
    "            nn.ConvTranspose2d(in_channels, out_channels, 2, 2),\n",
    "            ResidualConvBlock(out_channels, out_channels),\n",
    "            ResidualConvBlock(out_channels, out_channels),\n",
    "        ]\n",
    "        \n",
    "        # Use the layers to create a sequential model\n",
    "        self.model = nn.Sequential(*layers)\n",
    "\n",
    "    def forward(self, x, skip):\n",
    "        # Concatenate the input tensor x with the skip connection tensor along the channel dimension\n",
    "        x = torch.cat((x, skip), 1)\n",
    "        \n",
    "        # Pass the concatenated tensor through the sequential model and return the output\n",
    "        x = self.model(x)\n",
    "        return x\n",
    "\n",
    "    \n",
    "class UnetDown(nn.Module):\n",
    "    def __init__(self, in_channels, out_channels):\n",
    "        super(UnetDown, self).__init__()\n",
    "        \n",
    "        # Create a list of layers for the downsampling block\n",
    "        # Each block consists of two ResidualConvBlock layers, followed by a MaxPool2d layer for downsampling\n",
    "        layers = [ResidualConvBlock(in_channels, out_channels), ResidualConvBlock(out_channels, out_channels), nn.MaxPool2d(2)]\n",
    "        \n",
    "        # Use the layers to create a sequential model\n",
    "        self.model = nn.Sequential(*layers)\n",
    "\n",
    "    def forward(self, x):\n",
    "        # Pass the input through the sequential model and return the output\n",
    "        return self.model(x)\n",
    "\n",
    "class EmbedFC(nn.Module):\n",
    "    def __init__(self, input_dim, emb_dim):\n",
    "        super(EmbedFC, self).__init__()\n",
    "        '''\n",
    "        This class defines a generic one layer feed-forward neural network for embedding input data of\n",
    "        dimensionality input_dim to an embedding space of dimensionality emb_dim.\n",
    "        '''\n",
    "        self.input_dim = input_dim\n",
    "        \n",
    "        # define the layers for the network\n",
    "        layers = [\n",
    "            nn.Linear(input_dim, emb_dim),\n",
    "            nn.GELU(),\n",
    "            nn.Linear(emb_dim, emb_dim),\n",
    "        ]\n",
    "        \n",
    "        # create a PyTorch sequential model consisting of the defined layers\n",
    "        self.model = nn.Sequential(*layers)\n",
    "\n",
    "    def forward(self, x):\n",
    "        # flatten the input tensor\n",
    "        x = x.view(-1, self.input_dim)\n",
    "        # apply the model layers to the flattened tensor\n",
    "        return self.model(x)\n",
    "    \n",
    "def unorm(x):\n",
    "    # unity norm. results in range of [0,1]\n",
    "    # assume x (h,w,3)\n",
    "    xmax = x.max((0,1))\n",
    "    xmin = x.min((0,1))\n",
    "    return(x - xmin)/(xmax - xmin)\n",
    "\n",
    "def norm_all(store, n_t, n_s):\n",
    "    # runs unity norm on all timesteps of all samples\n",
    "    nstore = np.zeros_like(store)\n",
    "    for t in range(n_t):\n",
    "        for s in range(n_s):\n",
    "            nstore[t,s] = unorm(store[t,s])\n",
    "    return nstore\n",
    "\n",
    "def norm_torch(x_all):\n",
    "    # runs unity norm on all timesteps of all samples\n",
    "    # input is (n_samples, 3,h,w), the torch image format\n",
    "    x = x_all.cpu().numpy()\n",
    "    xmax = x.max((2,3))\n",
    "    xmin = x.min((2,3))\n",
    "    xmax = np.expand_dims(xmax,(2,3)) \n",
    "    xmin = np.expand_dims(xmin,(2,3))\n",
    "    nstore = (x - xmin)/(xmax - xmin)\n",
    "    return torch.from_numpy(nstore)\n",
    "\n",
    "def gen_tst_context(n_cfeat):\n",
    "    \"\"\"\n",
    "    Generate test context vectors\n",
    "    \"\"\"\n",
    "    vec = torch.tensor([\n",
    "    [1,0,0,0,0], [0,1,0,0,0], [0,0,1,0,0], [0,0,0,1,0], [0,0,0,0,1],  [0,0,0,0,0],      # human, non-human, food, spell, side-facing\n",
    "    [1,0,0,0,0], [0,1,0,0,0], [0,0,1,0,0], [0,0,0,1,0], [0,0,0,0,1],  [0,0,0,0,0],      # human, non-human, food, spell, side-facing\n",
    "    [1,0,0,0,0], [0,1,0,0,0], [0,0,1,0,0], [0,0,0,1,0], [0,0,0,0,1],  [0,0,0,0,0],      # human, non-human, food, spell, side-facing\n",
    "    [1,0,0,0,0], [0,1,0,0,0], [0,0,1,0,0], [0,0,0,1,0], [0,0,0,0,1],  [0,0,0,0,0],      # human, non-human, food, spell, side-facing\n",
    "    [1,0,0,0,0], [0,1,0,0,0], [0,0,1,0,0], [0,0,0,1,0], [0,0,0,0,1],  [0,0,0,0,0],      # human, non-human, food, spell, side-facing\n",
    "    [1,0,0,0,0], [0,1,0,0,0], [0,0,1,0,0], [0,0,0,1,0], [0,0,0,0,1],  [0,0,0,0,0]]      # human, non-human, food, spell, side-facing\n",
    "    )\n",
    "    return len(vec), vec\n",
    "\n",
    "def plot_grid(x,n_sample,n_rows,save_dir,w):\n",
    "    # x:(n_sample, 3, h, w)\n",
    "    ncols = n_sample//n_rows\n",
    "    grid = make_grid(norm_torch(x), nrow=ncols)  # curiously, nrow is number of columns.. or number of items in the row.\n",
    "    save_image(grid, save_dir + f\"run_image_w{w}.png\")\n",
    "    print('saved image at ' + save_dir + f\"run_image_w{w}.png\")\n",
    "    return grid\n",
    "\n",
    "def plot_sample(x_gen_store,n_sample,nrows,save_dir, fn,  w, save=False):\n",
    "    ncols = n_sample//nrows\n",
    "    sx_gen_store = np.moveaxis(x_gen_store,2,4)                               # change to Numpy image format (h,w,channels) vs (channels,h,w)\n",
    "    nsx_gen_store = norm_all(sx_gen_store, sx_gen_store.shape[0], n_sample)   # unity norm to put in range [0,1] for np.imshow\n",
    "    \n",
    "    # create gif of images evolving over time, based on x_gen_store\n",
    "    fig, axs = plt.subplots(nrows=nrows, ncols=ncols, sharex=True, sharey=True,figsize=(ncols,nrows))\n",
    "    def animate_diff(i, store):\n",
    "        print(f'gif animating frame {i} of {store.shape[0]}', end='\\r')\n",
    "        plots = []\n",
    "        for row in range(nrows):\n",
    "            for col in range(ncols):\n",
    "                axs[row, col].clear()\n",
    "                axs[row, col].set_xticks([])\n",
    "                axs[row, col].set_yticks([])\n",
    "                plots.append(axs[row, col].imshow(store[i,(row*ncols)+col]))\n",
    "        return plots\n",
    "    ani = FuncAnimation(fig, animate_diff, fargs=[nsx_gen_store],  interval=200, blit=False, repeat=True, frames=nsx_gen_store.shape[0]) \n",
    "    plt.close()\n",
    "    if save:\n",
    "        ani.save(save_dir + f\"{fn}_w{w}.gif\", dpi=100, writer=PillowWriter(fps=5))\n",
    "        print('saved gif at ' + save_dir + f\"{fn}_w{w}.gif\")\n",
    "    return ani"
   ]
  },
  {
   "cell_type": "code",
   "execution_count": 87,
   "metadata": {},
   "outputs": [],
   "source": [
    "class ContextUnet(nn.Module):\n",
    "    def __init__(self, in_channels, n_feat=256, n_cfeat=10, height=64):  # cfeat - context features\n",
    "        super(ContextUnet, self).__init__()\n",
    "\n",
    "        self.in_channels = in_channels\n",
    "        self.n_feat = n_feat\n",
    "        self.n_cfeat = n_cfeat\n",
    "        self.h = height\n",
    "\n",
    "        self.init_conv = ResidualConvBlock(in_channels, n_feat)\n",
    "\n",
    "        # Only two down-sampling layers\n",
    "        self.down1 = UnetDown(n_feat, n_feat)\n",
    "        self.down2 = UnetDown(n_feat, 4 * n_feat)\n",
    "\n",
    "        self.to_vec = nn.Sequential(nn.AvgPool2d((self.h//8)), nn.GELU())\n",
    "\n",
    "        self.timeembed1 = EmbedFC(1, 4 * n_feat)\n",
    "        self.timeembed2 = EmbedFC(1, 2 * n_feat)\n",
    "        self.contextembed1 = EmbedFC(n_cfeat, 4 * n_feat)\n",
    "        self.contextembed2 = EmbedFC(n_cfeat, 2 * n_feat)\n",
    "\n",
    "        # Only two up-sampling layers\n",
    "        self.up0 = nn.Sequential(\n",
    "            nn.ConvTranspose2d(4 * n_feat, 4 * n_feat, self.h//8, self.h//8),\n",
    "            nn.GroupNorm(8, 4 * n_feat),\n",
    "            nn.ReLU(),\n",
    "        )\n",
    "        self.up1 = UnetUp(8 * n_feat, 2 * n_feat)\n",
    "        self.up2 = UnetUp(3 * n_feat, n_feat)\n",
    "\n",
    "        self.out = nn.Sequential(\n",
    "            nn.Conv2d(2 * n_feat, n_feat, 3, 1, 1),\n",
    "            nn.GroupNorm(8, n_feat),\n",
    "            nn.ReLU(),\n",
    "            nn.Conv2d(n_feat, self.in_channels, 3, 1, 1),\n",
    "        )\n",
    "\n",
    "    def forward(self, x, t, c=None):\n",
    "        #print(f\"input shape: {x.shape}\")\n",
    "        x = self.init_conv(x)\n",
    "        #print(f\"init conv shape: {x.shape}\")\n",
    "        down1 = self.down1(x)\n",
    "        #print(f\"down1 shape: {down1.shape}\")\n",
    "        down2 = self.down2(down1)\n",
    "        #print(f\"down2 shape: {down2.shape}\")\n",
    "        hiddenvec = self.to_vec(down2)\n",
    "        #print(f\"hiddenvec shape: {hiddenvec.shape}\")\n",
    "        \n",
    "        if c is None:\n",
    "            c = torch.zeros(x.shape[0], self.n_cfeat).to(x.device)\n",
    "\n",
    "        #TODO if c is not none pas through embedding\n",
    "        \n",
    "        # Embeddings\n",
    "        cemb1 = self.contextembed1(c).view(x.shape[0], self.n_feat * 4, 1, 1)\n",
    "        #print(f\"cemb1 shape: {cemb1.shape}\")\n",
    "        temb1 = self.timeembed1(t).view(x.shape[0], self.n_feat * 4, 1, 1)\n",
    "        #print(f\"temb1 shape: {temb1.shape}\")\n",
    "        cemb2 = self.contextembed2(c).view(x.shape[0], self.n_feat * 2, 1, 1)\n",
    "        #print(f\"cemb2 shape: {cemb2.shape}\")\n",
    "        temb2 = self.timeembed2(t).view(x.shape[0], self.n_feat * 2, 1, 1)\n",
    "        #print(f\"temb2 shape: {temb2.shape}\")\n",
    "\n",
    "        # Upsampling\n",
    "        up1 = self.up0(hiddenvec)\n",
    "        #print(f\"up1 shape: {up1.shape}\")\n",
    "        up2 = self.up1(cemb1 * up1 + temb1, down2)\n",
    "        #print(f\"up2 shape: {up2.shape}\")\n",
    "        up3 = self.up2(cemb2 * up2 + temb2, down1)\n",
    "        #print(f\"up3 shape: {up3.shape}\")\n",
    "        out = self.out(torch.cat((up3, x), 1))\n",
    "\n",
    "        return out"
   ]
  },
  {
   "cell_type": "markdown",
   "metadata": {},
   "source": [
    "## Validation"
   ]
  },
  {
   "cell_type": "code",
   "execution_count": 88,
   "metadata": {},
   "outputs": [
    {
     "name": "stdout",
     "output_type": "stream",
     "text": [
      "height: 8\n"
     ]
    }
   ],
   "source": [
    "device = torch.device(\"cuda:0\" if torch.cuda.is_available() else torch.device('cpu'))\n",
    "n_feat = 64 # 64 hidden dimension feature\n",
    "n_cfeat = y_train.shape[1]\n",
    "height = img_cols# 16x16 image\n",
    "print(f\"height: {height}\")\n",
    "\n",
    "x_tensor = torch.from_numpy(X_train)\n",
    "dataset = TensorDataset(x_tensor)\n",
    "dataloader = DataLoader(dataset, batch_size=10, shuffle=True, num_workers=5)\n",
    "sample = next(iter(dataloader))[0]\n",
    "sample = sample.to(device)\n",
    "\n",
    "t = torch.randint(1, 500 + 1, (sample.shape[0],)).to(device)\n",
    "\n",
    "nn_model = ContextUnet(in_channels=channels, n_feat=n_feat, n_cfeat=n_cfeat, height=height).to(device)\n",
    "out = nn_model(sample.float(), t.float())"
   ]
  },
  {
   "cell_type": "markdown",
   "metadata": {},
   "source": [
    "# DDPM"
   ]
  },
  {
   "cell_type": "code",
   "execution_count": 89,
   "metadata": {},
   "outputs": [],
   "source": [
    "timesteps = 500\n",
    "beta1 = 1e-4\n",
    "beta2 = 0.02\n",
    "\n",
    "# network hyperparameters\n",
    "device = torch.device(\"cuda:0\" if torch.cuda.is_available() else torch.device('cpu'))\n",
    "n_feat = 64 # 64 hidden dimension feature\n",
    "n_cfeat = int(y_train.shape[1]) # context vector is of size 7\n",
    "height = img_cols # 16x16 image\n",
    "\n",
    "# training hyperparameters\n",
    "batch_size = 10 #100\n",
    "n_epoch = 5\n",
    "lrate=1e-3"
   ]
  },
  {
   "cell_type": "code",
   "execution_count": 90,
   "metadata": {},
   "outputs": [],
   "source": [
    "b_t = (beta2 - beta1) * torch.linspace(0, 1, timesteps + 1, device=device) + beta1\n",
    "a_t = 1 - b_t\n",
    "ab_t = torch.cumsum(a_t.log(), dim=0).exp()\n",
    "ab_t[0] = 1"
   ]
  },
  {
   "cell_type": "code",
   "execution_count": 91,
   "metadata": {},
   "outputs": [
    {
     "name": "stdout",
     "output_type": "stream",
     "text": [
      "torch.Size([8760, 8])\n"
     ]
    }
   ],
   "source": [
    "import torch\n",
    "from torch.utils.data import TensorDataset\n",
    "\n",
    "x_tensor = torch.from_numpy(X_train)\n",
    "y_tensor = torch.from_numpy(y_train)\n",
    "print(y_tensor.shape)\n",
    "\n",
    "# Create a TensorDataset from the tensors\n",
    "dataset = TensorDataset(x_tensor, y_tensor)\n",
    "\n",
    "dataloader = DataLoader(dataset, batch_size=batch_size, shuffle=True, num_workers=5)\n",
    "optim = torch.optim.Adam(nn_model.parameters(), lr=lrate)"
   ]
  },
  {
   "cell_type": "code",
   "execution_count": 92,
   "metadata": {},
   "outputs": [],
   "source": [
    "nn_model = ContextUnet(in_channels=channels, n_feat=n_feat, n_cfeat=n_cfeat, height=height).to(device)\n",
    "\n",
    "# re setup optimizer\n",
    "optim = torch.optim.Adam(nn_model.parameters(), lr=lrate)"
   ]
  },
  {
   "cell_type": "code",
   "execution_count": 93,
   "metadata": {},
   "outputs": [],
   "source": [
    "def perturb_input(x, t, noise):\n",
    "    return ab_t.sqrt()[t, None, None, None] * x + (1 - ab_t[t, None, None, None]) * noise"
   ]
  },
  {
   "cell_type": "code",
   "execution_count": 94,
   "metadata": {},
   "outputs": [],
   "source": [
    "def show_images(imgs, nrow=2):\n",
    "  _, axs = plt.subplots(nrow, imgs.shape[0] // nrow, figsize=(4,2 ))\n",
    "  axs = axs.flatten()\n",
    "\n",
    "  if imgs.shape[1]==1:\n",
    "    imgs = imgs.repeat(1, 3, 1, 1)\n",
    "\n",
    "  for img, ax in zip(imgs, axs):\n",
    "      img = (img.permute(1, 2, 0).clip(-1, 1).detach().cpu().numpy() + 1) / 2\n",
    "      ax.set_xticks([])\n",
    "      ax.set_yticks([])\n",
    "      ax.imshow(img)\n",
    "  plt.show()"
   ]
  },
  {
   "cell_type": "code",
   "execution_count": 95,
   "metadata": {},
   "outputs": [],
   "source": [
    "@torch.no_grad()\n",
    "def sample_ddpm_context(n_sample, context, save_rate=20):\n",
    "    # x_T ~ N(0, 1), sample initial noise\n",
    "    samples = torch.randn(n_sample, channels, height, height).to(device)\n",
    "\n",
    "    # array to keep track of generated steps for plotting\n",
    "    intermediate = []\n",
    "    for i in range(timesteps, 0, -1):\n",
    "        print(f'sampling timestep {i:3d}', end='\\r')\n",
    "\n",
    "        # reshape time tensor\n",
    "        t = torch.tensor([i / timesteps])[:, None, None, None].to(device)\n",
    "\n",
    "        # sample some random noise to inject back in. For i = 1, don't add back in noise\n",
    "        z = torch.randn_like(samples) if i > 1 else 0\n",
    "\n",
    "        eps = nn_model(samples, t, c=context)    # predict noise e_(x_t,t, ctx)\n",
    "        samples = denoise_add_noise(samples, i, eps, z)\n",
    "        if i % save_rate==0 or i==timesteps or i<8:\n",
    "            intermediate.append(samples.detach().cpu().numpy())\n",
    "\n",
    "    intermediate = np.stack(intermediate)\n",
    "    return samples, intermediate"
   ]
  },
  {
   "cell_type": "code",
   "execution_count": 96,
   "metadata": {},
   "outputs": [],
   "source": [
    "def denoise_add_noise(x, t, pred_noise, z=None):\n",
    "    if z is None:\n",
    "        z = torch.randn_like(x)\n",
    "    noise = b_t.sqrt()[t] * z\n",
    "    mean = (x - pred_noise * ((1 - a_t[t]) / (1 - ab_t[t]).sqrt())) / a_t[t].sqrt()\n",
    "    return mean + noise"
   ]
  },
  {
   "cell_type": "code",
   "execution_count": 97,
   "metadata": {},
   "outputs": [],
   "source": [
    "def r_squared(y_true, y_pred):\n",
    "    ss_res = torch.sum((y_true - y_pred) ** 2)\n",
    "    ss_tot = torch.sum((y_true - torch.mean(y_true)) ** 2)\n",
    "    r2 = 1 - ss_res / ss_tot\n",
    "    return r2\n",
    "\n",
    "def rmse(a, b):\n",
    "    return torch.sqrt(torch.mean((a - b) ** 2))"
   ]
  },
  {
   "cell_type": "code",
   "execution_count": 98,
   "metadata": {},
   "outputs": [
    {
     "name": "stdout",
     "output_type": "stream",
     "text": [
      "epoch 0\n"
     ]
    },
    {
     "name": "stderr",
     "output_type": "stream",
     "text": [
      "100%|██████████| 876/876 [00:12<00:00, 71.28it/s]\n"
     ]
    },
    {
     "name": "stdout",
     "output_type": "stream",
     "text": [
      "epoch 1\n"
     ]
    },
    {
     "name": "stderr",
     "output_type": "stream",
     "text": [
      "100%|██████████| 876/876 [00:11<00:00, 73.62it/s]\n"
     ]
    },
    {
     "name": "stdout",
     "output_type": "stream",
     "text": [
      "epoch 2\n"
     ]
    },
    {
     "name": "stderr",
     "output_type": "stream",
     "text": [
      "100%|██████████| 876/876 [00:11<00:00, 75.37it/s]\n"
     ]
    },
    {
     "name": "stdout",
     "output_type": "stream",
     "text": [
      "epoch 3\n"
     ]
    },
    {
     "name": "stderr",
     "output_type": "stream",
     "text": [
      "100%|██████████| 876/876 [00:11<00:00, 76.72it/s]\n"
     ]
    },
    {
     "name": "stdout",
     "output_type": "stream",
     "text": [
      "epoch 4\n"
     ]
    },
    {
     "name": "stderr",
     "output_type": "stream",
     "text": [
      "100%|██████████| 876/876 [00:11<00:00, 75.56it/s]\n"
     ]
    }
   ],
   "source": [
    "nn_model.train()\n",
    "\n",
    "list_fid_score = []\n",
    "list_rmse_score = []\n",
    "\n",
    "for ep in range(n_epoch):\n",
    "    print(f'epoch {ep}')\n",
    "\n",
    "    # linearly decay learning rate\n",
    "    optim.param_groups[0]['lr'] = lrate*(1-ep/n_epoch)\n",
    "\n",
    "    pbar = tqdm(dataloader, mininterval=2 )\n",
    "    epoch_loss = 0.0   # initialize epoch loss\n",
    "    n_batches = 0      # count number of batches\n",
    "    for x, c in pbar:   # x: images  c: context\n",
    "        optim.zero_grad()\n",
    "        x = x.to(device)\n",
    "        c = c.to(x)\n",
    "        \n",
    "        # randomly mask out c\n",
    "        context_mask = torch.bernoulli(torch.zeros(c.shape[0]) + 0.9).to(device)\n",
    "        c = c * context_mask.unsqueeze(-1)\n",
    "\n",
    "        # perturb data\n",
    "        noise = torch.randn_like(x)\n",
    "        noise = noise.type(torch.float32)\n",
    "        t = torch.randint(1, timesteps + 1, (x.shape[0],)).to(device)\n",
    "        x_pert = perturb_input(x, t, noise)\n",
    "\n",
    "        # use network to recover noise\n",
    "        time = t / timesteps\n",
    "        time = time.type(torch.float32)\n",
    "        x_pert = x_pert.type(torch.float32)\n",
    "        c = c.type(torch.float32)\n",
    "        \n",
    "        pred_noise = nn_model(x_pert, time, c=c)\n",
    "        # loss is mean squared error between the predicted and true noise\n",
    "        loss = F.mse_loss(pred_noise, noise)\n",
    "        epoch_loss += loss.item()\n",
    "        n_batches += 1\n",
    "        loss.backward()\n",
    "\n",
    "        optim.step()"
   ]
  },
  {
   "cell_type": "markdown",
   "metadata": {},
   "source": [
    "# Sampling\n",
    "## No Conditioning"
   ]
  },
  {
   "cell_type": "code",
   "execution_count": null,
   "metadata": {},
   "outputs": [],
   "source": []
  },
  {
   "cell_type": "code",
   "execution_count": 99,
   "metadata": {},
   "outputs": [
    {
     "name": "stdout",
     "output_type": "stream",
     "text": [
      "sampling timestep   1\r"
     ]
    },
    {
     "data": {
      "text/plain": [
       "<matplotlib.image.AxesImage at 0x1c576787e80>"
      ]
     },
     "execution_count": 99,
     "metadata": {},
     "output_type": "execute_result"
    },
    {
     "data": {
      "image/png": "[encoded data removed]",
      "text/plain": [
       "<Figure size 640x480 with 1 Axes>"
      ]
     },
     "metadata": {},
     "output_type": "display_data"
    }
   ],
   "source": [
    "gen_img, _ = sample_ddpm_context(1, None)\n",
    "gen_img = gen_img.cpu().numpy()\n",
    "gen_img = np.transpose(gen_img, (0, 2, 3, 1))\n",
    "gen_img = gen_img.squeeze(-1)\n",
    "plt.imshow(gen_img.squeeze())"
   ]
  },
  {
   "cell_type": "markdown",
   "metadata": {},
   "source": [
    "## Conditioning"
   ]
  },
  {
   "cell_type": "code",
   "execution_count": 100,
   "metadata": {},
   "outputs": [
    {
     "name": "stdout",
     "output_type": "stream",
     "text": [
      "sampling timestep   1\r"
     ]
    },
    {
     "data": {
      "text/plain": [
       "<matplotlib.image.AxesImage at 0x1c576b3c7f0>"
      ]
     },
     "execution_count": 100,
     "metadata": {},
     "output_type": "execute_result"
    },
    {
     "data": {
      "image/png": "[encoded data removed]",
      "text/plain": [
       "<Figure size 640x480 with 1 Axes>"
      ]
     },
     "metadata": {},
     "output_type": "display_data"
    }
   ],
   "source": [
    "cond = torch.tensor(y_train[0]).float().to(device)\n",
    "gen_img, _ = sample_ddpm_context(1, cond)\n",
    "gen_img = gen_img.cpu().numpy()\n",
    "gen_img = np.transpose(gen_img, (0, 2, 3, 1))\n",
    "gen_img = gen_img.squeeze(-1)\n",
    "plt.imshow(gen_img.squeeze())"
   ]
  },
  {
   "cell_type": "code",
   "execution_count": null,
   "metadata": {},
   "outputs": [],
   "source": []
  }
 ],
 "metadata": {
  "kernelspec": {
   "display_name": "hf_diff",
   "language": "python",
   "name": "python3"
  },
  "language_info": {
   "codemirror_mode": {
    "name": "ipython",
    "version": 3
   },
   "file_extension": ".py",
   "mimetype": "text/x-python",
   "name": "python",
   "nbconvert_exporter": "python",
   "pygments_lexer": "ipython3",
   "version": "3.10.15"
  }
 },
 "nbformat": 4,
 "nbformat_minor": 2
}
