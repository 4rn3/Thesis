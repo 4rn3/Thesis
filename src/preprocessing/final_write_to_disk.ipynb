{
 "cells": [
  {
   "cell_type": "code",
   "execution_count": 1,
   "metadata": {},
   "outputs": [],
   "source": [
    "import os\n",
    "import math\n",
    "\n",
    "import pandas as pd\n",
    "import numpy as np"
   ]
  },
  {
   "cell_type": "code",
   "execution_count": 2,
   "metadata": {},
   "outputs": [],
   "source": [
    "METER_DATA_DIR = \"./data/customer_led_network_revolution/\"\n",
    "COND_DATA_DIR =  \"./data/customer_led_network_revolution/cond_data/\"\n",
    "PREPROCESSED_DIR = \"./data/customer_led_network_revolution/preprocessed/\"\n",
    "PREPROCESSING_DIR = \"./data/customer_led_network_revolution/preprocessing/\""
   ]
  },
  {
   "cell_type": "code",
   "execution_count": 3,
   "metadata": {},
   "outputs": [],
   "source": [
    "def load_data(csv_file_name, use_cols=[\"Location ID\", \"Date and Time of capture\", \"Measurement Description\", \"Parameter\"], parse=True, engine=\"pyarrow\"):\n",
    "    csv_path = os.path.join(METER_DATA_DIR, csv_file_name)\n",
    "\n",
    "    df = pd.read_csv(csv_path, \n",
    "                    index_col=\"Date and Time of capture\", \n",
    "                    parse_dates=parse, \n",
    "                    date_format='%d/%m/%Y %H:%M:%S',\n",
    "                    usecols=use_cols,\n",
    "                    engine=engine)\n",
    "    \n",
    "    return df"
   ]
  },
  {
   "cell_type": "code",
   "execution_count": 4,
   "metadata": {},
   "outputs": [],
   "source": [
    "def pivot_high_freq_df(df):\n",
    "    data = df.copy()\n",
    "    data['Period'] = data.index.floor('30min')\n",
    "    data = data.groupby(['Period', 'Location ID'])['Parameter'].mean().reset_index()\n",
    "    data.set_index('Period', inplace=True)\n",
    "    data = data.pivot_table(index=data.index, columns='Location ID', values='Parameter')\n",
    "    return data"
   ]
  },
  {
   "cell_type": "markdown",
   "metadata": {},
   "source": [
    "# Regular meters"
   ]
  },
  {
   "cell_type": "code",
   "execution_count": 5,
   "metadata": {},
   "outputs": [],
   "source": [
    "reg_df = load_data(\"TrialMonitoringDataHH.csv\", [\"Location ID\", \"Date and Time of capture\", \"Parameter\"], False, \"c\")"
   ]
  },
  {
   "cell_type": "code",
   "execution_count": 6,
   "metadata": {},
   "outputs": [],
   "source": [
    "reg_df.index= pd.to_datetime(reg_df.index, format='%d/%m/%Y %H:%M:%S')"
   ]
  },
  {
   "cell_type": "code",
   "execution_count": 7,
   "metadata": {},
   "outputs": [],
   "source": [
    "reg_df_y1 = reg_df[reg_df.index <= reg_df.index.min() + pd.Timedelta(days=365)]\n",
    "reg_df_y2 = reg_df[(reg_df.index > reg_df.index.min() + pd.Timedelta(days=365)) & (reg_df.index <= reg_df.index.min() + pd.Timedelta(days=365)*2)]"
   ]
  },
  {
   "cell_type": "code",
   "execution_count": 8,
   "metadata": {},
   "outputs": [],
   "source": [
    "del reg_df"
   ]
  },
  {
   "cell_type": "code",
   "execution_count": 9,
   "metadata": {},
   "outputs": [],
   "source": [
    "reg_df_one_T = reg_df_y1.pivot_table(index=reg_df_y1.index, columns='Location ID', values='Parameter')\n",
    "reg_df_two_T = reg_df_y2.pivot_table(index=reg_df_y2.index, columns='Location ID', values='Parameter')"
   ]
  },
  {
   "cell_type": "code",
   "execution_count": 10,
   "metadata": {},
   "outputs": [],
   "source": [
    "np.save(os.path.join(PREPROCESSING_DIR, \"reg_one_df\"), np.asarray(reg_df_one_T))\n",
    "np.save(os.path.join(PREPROCESSING_DIR, \"reg_two_df\"), np.asarray(reg_df_two_T))\n",
    "\n",
    "np.save(os.path.join(PREPROCESSING_DIR, \"reg_one_df_cols\"), np.asarray(reg_df_one_T.columns.tolist()))\n",
    "np.save(os.path.join(PREPROCESSING_DIR, \"reg_two_df_cols\"), np.asarray(reg_df_two_T.columns.tolist()))"
   ]
  },
  {
   "cell_type": "code",
   "execution_count": 11,
   "metadata": {},
   "outputs": [],
   "source": [
    "del reg_df_one_T\n",
    "del reg_df_two_T"
   ]
  },
  {
   "cell_type": "markdown",
   "metadata": {},
   "source": [
    "# HP"
   ]
  },
  {
   "cell_type": "code",
   "execution_count": 29,
   "metadata": {},
   "outputs": [],
   "source": [
    "hp_df = load_data(\"HPTrialMonitoringData.csv\")"
   ]
  },
  {
   "cell_type": "code",
   "execution_count": 30,
   "metadata": {},
   "outputs": [],
   "source": [
    "hp_df = hp_df[hp_df[\"Measurement Description\"] == \"whole home power import\"]"
   ]
  },
  {
   "cell_type": "code",
   "execution_count": 31,
   "metadata": {},
   "outputs": [
    {
     "data": {
      "text/plain": [
       "364"
      ]
     },
     "execution_count": 31,
     "metadata": {},
     "output_type": "execute_result"
    }
   ],
   "source": [
    "(hp_df.index.max() - hp_df.index.min()).days"
   ]
  },
  {
   "cell_type": "code",
   "execution_count": 32,
   "metadata": {},
   "outputs": [],
   "source": [
    "hp_df_T = pivot_high_freq_df(hp_df)"
   ]
  },
  {
   "cell_type": "code",
   "execution_count": 33,
   "metadata": {},
   "outputs": [],
   "source": [
    "np.save(os.path.join(PREPROCESSING_DIR, \"hp_df\"), np.asarray(hp_df_T))\n",
    "np.save(os.path.join(PREPROCESSING_DIR, \"hp_df_cols\"), np.asarray(hp_df_T.columns.tolist()))"
   ]
  },
  {
   "cell_type": "code",
   "execution_count": 34,
   "metadata": {},
   "outputs": [],
   "source": [
    "del hp_df\n",
    "del hp_df_T"
   ]
  },
  {
   "cell_type": "markdown",
   "metadata": {},
   "source": [
    "# PV"
   ]
  },
  {
   "cell_type": "code",
   "execution_count": 18,
   "metadata": {},
   "outputs": [],
   "source": [
    "pv_df = load_data(\"PVTrialMonitoringData.csv\")"
   ]
  },
  {
   "cell_type": "code",
   "execution_count": 20,
   "metadata": {},
   "outputs": [],
   "source": [
    "pv_df = pv_df[pv_df[\"Measurement Description\"] == \"whole home power import\"]"
   ]
  },
  {
   "cell_type": "code",
   "execution_count": 22,
   "metadata": {},
   "outputs": [
    {
     "data": {
      "text/plain": [
       "668"
      ]
     },
     "execution_count": 22,
     "metadata": {},
     "output_type": "execute_result"
    }
   ],
   "source": [
    "(pv_df.index.max() - pv_df.index.min()).days"
   ]
  },
  {
   "cell_type": "markdown",
   "metadata": {},
   "source": [
    "just shy of 2y"
   ]
  },
  {
   "cell_type": "code",
   "execution_count": 23,
   "metadata": {},
   "outputs": [],
   "source": [
    "pv_df = pv_df[pv_df.index <= pv_df.index.min() + pd.Timedelta(days=365)]"
   ]
  },
  {
   "cell_type": "code",
   "execution_count": 25,
   "metadata": {},
   "outputs": [],
   "source": [
    "pv_df_T = pivot_high_freq_df(pv_df)"
   ]
  },
  {
   "cell_type": "code",
   "execution_count": 27,
   "metadata": {},
   "outputs": [],
   "source": [
    "np.save(os.path.join(PREPROCESSING_DIR, \"pv_df\"), np.asarray(pv_df_T))\n",
    "np.save(os.path.join(PREPROCESSING_DIR, \"pv_df_cols\"), np.asarray(pv_df_T.columns.tolist()))"
   ]
  },
  {
   "cell_type": "code",
   "execution_count": 28,
   "metadata": {},
   "outputs": [],
   "source": [
    "del pv_df_T\n",
    "del pv_df"
   ]
  },
  {
   "cell_type": "markdown",
   "metadata": {},
   "source": [
    "# EV"
   ]
  },
  {
   "cell_type": "code",
   "execution_count": 12,
   "metadata": {},
   "outputs": [],
   "source": [
    "ev_df = load_data(\"EVTrialMonitoringData.csv\")"
   ]
  },
  {
   "cell_type": "code",
   "execution_count": 13,
   "metadata": {},
   "outputs": [],
   "source": [
    "ev_df = ev_df[ev_df[\"Measurement Description\"] == \"House data\"]"
   ]
  },
  {
   "cell_type": "code",
   "execution_count": 14,
   "metadata": {},
   "outputs": [
    {
     "data": {
      "text/plain": [
       "279"
      ]
     },
     "execution_count": 14,
     "metadata": {},
     "output_type": "execute_result"
    }
   ],
   "source": [
    "(ev_df.index.max() - ev_df.index.min()).days"
   ]
  },
  {
   "cell_type": "code",
   "execution_count": null,
   "metadata": {},
   "outputs": [],
   "source": []
  }
 ],
 "metadata": {
  "kernelspec": {
   "display_name": "hf_diff",
   "language": "python",
   "name": "python3"
  },
  "language_info": {
   "codemirror_mode": {
    "name": "ipython",
    "version": 3
   },
   "file_extension": ".py",
   "mimetype": "text/x-python",
   "name": "python",
   "nbconvert_exporter": "python",
   "pygments_lexer": "ipython3",
   "version": "3.10.15"
  }
 },
 "nbformat": 4,
 "nbformat_minor": 2
}
