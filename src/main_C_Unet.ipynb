{
 "cells": [
  {
   "cell_type": "code",
   "execution_count": 1,
   "metadata": {},
   "outputs": [],
   "source": [
    "import os\n",
    "import random\n",
    "from datetime import datetime\n",
    "import ast\n",
    "\n",
    "import gc\n",
    "import yaml\n",
    "from tqdm import tqdm\n",
    "\n",
    "import numpy as np\n",
    "import pandas as pd\n",
    "import matplotlib.pyplot as plt\n",
    "\n",
    "import torch\n",
    "import torch.nn.functional as F\n",
    "\n",
    "from torch.utils.tensorboard import SummaryWriter\n",
    "\n",
    "from preprocessing.house_zero_preprocessing import serve_data_hz\n",
    "\n",
    "from models.context_unet import ContextUnet\n",
    "\n",
    "import ddpm.cu_ddpm as ddpm\n",
    "\n",
    "from evaluation.pca_tsne import visualize_pca_tsne\n",
    "from evaluation.jsd import compute_jsd\n",
    "\n",
    "random.seed(42)\n",
    "np.random.seed(42)"
   ]
  },
  {
   "cell_type": "code",
   "execution_count": 2,
   "metadata": {},
   "outputs": [
    {
     "data": {
      "text/plain": [
       "0"
      ]
     },
     "execution_count": 2,
     "metadata": {},
     "output_type": "execute_result"
    }
   ],
   "source": [
    "if torch.cuda.is_available():\n",
    "    torch.cuda.empty_cache()\n",
    "gc.collect()"
   ]
  },
  {
   "cell_type": "code",
   "execution_count": 3,
   "metadata": {},
   "outputs": [],
   "source": [
    "config_path = \"./config.yml\"\n",
    "with open(config_path, 'r') as f:\n",
    "    config = yaml.full_load(f)\n",
    "\n",
    "date = datetime.today().strftime('%Y-%m-%d-%H-%M')\n",
    "device = 'cuda' if torch.cuda.is_available() else 'cpu'\n",
    "\n",
    "epochs = config[\"epochs\"]\n",
    "timesteps = config[\"timesteps\"]\n",
    "batch_size_config = config[\"batch_size\"]\n",
    "latent_dim = config[\"latent_dim\"]\n",
    "num_layers = config[\"num_layers\"]\n",
    "n_heads = config[\"n_heads\"]\n",
    "beta_schedule = config[\"beta_schedule\"]\n",
    "objective = config[\"objective\"]\n",
    "subset_len = config[\"subset_len\"]\n",
    "model_name = config[\"model_name\"]\n",
    "cond_model = config[\"cond_model\"]\n",
    "lr = float(config[\"lr\"])\n",
    "betas = tuple_of_floats = ast.literal_eval(config[\"betas\"])\n",
    "save_rate = int(config[\"save_rate\"])\n",
    "dataset_name = config[\"dataset\"]\n",
    "house_zero_feature_subset = config[\"house_zero_feature_subset\"]\n",
    "img_rows = int(config[\"img_rows\"])\n",
    "img_cols = int(config[\"img_cols\"])\n",
    "channels = int(config[\"channels\"])\n",
    "n_feat = int(config[\"n_feat\"])\n",
    "\n",
    "assert model_name in [\"ContextUnet\"], \"Chosen  model was not valid, the option is ContextUnet\"\n",
    "assert cond_model in {\"mlp\", \"te\", \"stft\"}, \"Chosen conditioning model was not valid, the options are mlp, te and stft\"\n",
    "if (model_name, dataset_name) == (\"ContextUnet\", \"LondonDataStore\"):\n",
    "    raise AssertionError(\"Chosen model is not compatible with chosen dataset\")\n",
    "\n",
    "log_file_name = f\"{model_name}_{cond_model}_{str(date)}\"\n",
    "tb_writer = f\"./logging/tensorboard/{log_file_name}\""
   ]
  },
  {
   "cell_type": "markdown",
   "metadata": {},
   "source": [
    "# Data"
   ]
  },
  {
   "cell_type": "code",
   "execution_count": 4,
   "metadata": {},
   "outputs": [
    {
     "name": "stdout",
     "output_type": "stream",
     "text": [
      "torch.Size([14035, 1, 8, 8]) torch.Size([14035, 8])\n"
     ]
    }
   ],
   "source": [
    "train_loader, test_loader, n_cfeat = serve_data_hz(batch_size=batch_size_config, channels=channels, feature_subset=house_zero_feature_subset)"
   ]
  },
  {
   "cell_type": "markdown",
   "metadata": {},
   "source": [
    "# Model"
   ]
  },
  {
   "cell_type": "code",
   "execution_count": 5,
   "metadata": {},
   "outputs": [],
   "source": [
    "model = ContextUnet(in_channels=channels, n_feat=n_feat, n_cfeat=n_cfeat, height=img_cols, cond_model=cond_model).to(device)\n",
    "optim = torch.optim.Adam(model.parameters(), lr=lr)"
   ]
  },
  {
   "cell_type": "markdown",
   "metadata": {},
   "source": [
    "## DDPM"
   ]
  },
  {
   "cell_type": "markdown",
   "metadata": {},
   "source": [
    "# Train"
   ]
  },
  {
   "cell_type": "code",
   "execution_count": 6,
   "metadata": {},
   "outputs": [
    {
     "name": "stdout",
     "output_type": "stream",
     "text": [
      "epoch 0\n"
     ]
    },
    {
     "name": "stderr",
     "output_type": "stream",
     "text": [
      "100%|██████████| 220/220 [00:05<00:00, 43.07it/s]\n"
     ]
    },
    {
     "name": "stdout",
     "output_type": "stream",
     "text": [
      "epoch 1\n"
     ]
    },
    {
     "name": "stderr",
     "output_type": "stream",
     "text": [
      "100%|██████████| 220/220 [00:04<00:00, 44.76it/s]\n"
     ]
    },
    {
     "name": "stdout",
     "output_type": "stream",
     "text": [
      "epoch 2\n"
     ]
    },
    {
     "name": "stderr",
     "output_type": "stream",
     "text": [
      "100%|██████████| 220/220 [00:04<00:00, 45.98it/s]\n"
     ]
    },
    {
     "name": "stdout",
     "output_type": "stream",
     "text": [
      "epoch 3\n"
     ]
    },
    {
     "name": "stderr",
     "output_type": "stream",
     "text": [
      "100%|██████████| 220/220 [00:04<00:00, 45.96it/s]\n"
     ]
    }
   ],
   "source": [
    "model.train()\n",
    "for ep in range(epochs):\n",
    "    print(f'epoch {ep}')\n",
    "\n",
    "    # linearly decay learning rate\n",
    "    optim.param_groups[0]['lr'] = lr*(1-ep/epochs)\n",
    "\n",
    "    pbar = tqdm(train_loader, mininterval=2 )\n",
    "    epoch_loss = 0.0   # initialize epoch loss\n",
    "    n_batches = 0      # count number of batches\n",
    "    for x, c in pbar:   # x: images  c: context\n",
    "        optim.zero_grad()\n",
    "        x = x.to(device)\n",
    "        c = c.to(x)\n",
    "        \n",
    "        # randomly mask out c\n",
    "        context_mask = torch.bernoulli(torch.zeros(c.shape[0]) + 0.9).to(device)\n",
    "        c = c * context_mask.unsqueeze(-1)\n",
    "\n",
    "        # perturb data\n",
    "        noise = torch.randn_like(x)\n",
    "        noise = noise.type(torch.float32)\n",
    "        t = torch.randint(1, timesteps + 1, (x.shape[0],)).to(device)\n",
    "        x_pert = ddpm.perturb_input(x, t, noise, beta1=betas[0], beta2=betas[1], timesteps=timesteps, device=device)\n",
    "\n",
    "        # use network to recover noise\n",
    "        time = t / timesteps\n",
    "        time = time.type(torch.float32)\n",
    "        x_pert = x_pert.type(torch.float32)\n",
    "        c = c.type(torch.float32)\n",
    "        \n",
    "        pred_noise = model(x_pert, time, c=c)\n",
    "        # loss is mean squared error between the predicted and true noise\n",
    "        loss = F.mse_loss(pred_noise, noise)\n",
    "        epoch_loss += loss.item()\n",
    "        n_batches += 1\n",
    "        loss.backward()\n",
    "\n",
    "        optim.step()"
   ]
  },
  {
   "cell_type": "markdown",
   "metadata": {},
   "source": [
    "# Sampling"
   ]
  },
  {
   "cell_type": "code",
   "execution_count": 7,
   "metadata": {},
   "outputs": [
    {
     "name": "stdout",
     "output_type": "stream",
     "text": [
      "sampling timestep   10\r"
     ]
    },
    {
     "data": {
      "text/plain": [
       "<matplotlib.image.AxesImage at 0x1ad0aa7fa60>"
      ]
     },
     "execution_count": 7,
     "metadata": {},
     "output_type": "execute_result"
    },
    {
     "data": {
      "image/png": "[encoded data removed]",
      "text/plain": [
       "<Figure size 640x480 with 1 Axes>"
      ]
     },
     "metadata": {},
     "output_type": "display_data"
    }
   ],
   "source": [
    "sample, _ = ddpm.sample_ddpm_context(n_sample=1, context=None, channels=channels, height=img_cols, \n",
    "                                      device=device, timesteps=timesteps, nn_model=model, beta1=betas[0], beta2=betas[1])\n",
    "sample = sample.cpu().numpy()\n",
    "sample = np.transpose(sample, (0, 2, 3, 1))\n",
    "sample = sample.squeeze(-1)\n",
    "plt.imshow(sample.squeeze())"
   ]
  },
  {
   "cell_type": "markdown",
   "metadata": {},
   "source": [
    "# Evaluation\n",
    "## Without Conditioning\n",
    "### Train"
   ]
  },
  {
   "cell_type": "code",
   "execution_count": 8,
   "metadata": {},
   "outputs": [
    {
     "data": {
      "text/plain": [
       "(torch.Size([64, 8]), torch.Size([64, 1, 8, 8]))"
      ]
     },
     "execution_count": 8,
     "metadata": {},
     "output_type": "execute_result"
    }
   ],
   "source": [
    "real_data_train, real_cond_data_train = next(iter(train_loader))\n",
    "real_data_test, real_cond_data_test = next(iter(test_loader))\n",
    "\n",
    "real_cond_data_train.shape, real_data_test.shape"
   ]
  },
  {
   "cell_type": "markdown",
   "metadata": {},
   "source": [
    "### Test"
   ]
  },
  {
   "cell_type": "code",
   "execution_count": null,
   "metadata": {},
   "outputs": [],
   "source": []
  },
  {
   "cell_type": "markdown",
   "metadata": {},
   "source": [
    "## With Conditioning"
   ]
  },
  {
   "cell_type": "code",
   "execution_count": null,
   "metadata": {},
   "outputs": [],
   "source": []
  },
  {
   "cell_type": "markdown",
   "metadata": {},
   "source": []
  }
 ],
 "metadata": {
  "kernelspec": {
   "display_name": "hf_diff",
   "language": "python",
   "name": "python3"
  },
  "language_info": {
   "codemirror_mode": {
    "name": "ipython",
    "version": 3
   },
   "file_extension": ".py",
   "mimetype": "text/x-python",
   "name": "python",
   "nbconvert_exporter": "python",
   "pygments_lexer": "ipython3",
   "version": "3.10.15"
  }
 },
 "nbformat": 4,
 "nbformat_minor": 2
}
